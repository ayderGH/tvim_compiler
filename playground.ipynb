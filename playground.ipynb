{
 "cells": [
  {
   "cell_type": "code",
   "execution_count": 34,
   "metadata": {},
   "outputs": [],
   "source": [
    "import os\n",
    "import json\n",
    "import re\n",
    "import regex"
   ]
  },
  {
   "cell_type": "code",
   "execution_count": 35,
   "metadata": {},
   "outputs": [
    {
     "data": {
      "text/plain": [
       "'\\ufeff%%%%%%%%%%%%%%%%%%%%%%%%%%%%%%%%%%%%%%%%%%%%%%%%%%%%%%%%%%%%%%%%%%%\\n%%%%% Основной файл для авторов журнала ТВИМ\\n%%%%% факультет математики и информатики\\n%%%%% Таврическая академия Крымского федерального университета им. В.И. Вернадского\\n%%%%% Технические редакторы: Анафиев Айдер Сератович, Войтицкий Виктор Иванович\\n%%%%% e-mail: tvim@tvim.info\\n%%%%% site:   www.tvim.info\\n%%%%%%%%%%%%%%%%%%%%%%%%%%%%%%%%%%%%%%%%%%%%%%%%%%%%%%%%%%%%%%%%%%%\\n\\n\\\\documentclass[12pt, a4paper, reqno, intlimits]{amsart}\\n\\\\usepackage[cp1251]{inputenc}\\n\\\\usepackage[ruled]{algorithm}\\n\\\\usepackage[noend]{algorithmic}\\n\\\\usepackage{multicol}\\n\\\\usepackage{mathtext}\\n\\\\usepackage[T2A]{fontenc}\\n\\\\usepackage[russian]{babel}\\n\\\\usepackage{amsfonts, amsmath, amsxtra, amsthm, amssymb, latexsym, tvim, mathrsfs, srcltx, dsfont}\\n\\\\usepackage[dvips]{graphicx, epsfig}\\n\\\\usepackage{subfigure}\\n\\\\usepackage{wrapfig}\\n\\\\usepackage{mdframed}\\n\\\\usepackage{wasysym}\\n\\\\usepackage{xcolor}\\n\\n\\\\def\\\\baselinestretch{1.1}\\n\\\\def\\\\authorInfo#1#2#3#4{\\n    \\\\medskip\\n    {\\\\def\\\\arraystretch{0.1}\\n    \\\\begin{tabular}{p{5cm}p{10.5cm}}\\n        \\\\emph{\\\\textbf{#1}} \\\\par \\\\emph{\\\\textbf{#2}} & #3\\n        \\\\par \\\\textit{e-mail: #4}\\n    \\\\end{tabular}}\\n}\\n\\n\\\\begin{document}\\n\\n\\\\renewcommand\\\\tablename{\\\\textit{Таблица}}\\n\\\\renewcommand\\\\figurename{\\\\textit{Рис.}}\\n\\n\\\\sloppy\\n\\n\\\\makeatletter\\n\\n\\\\renewcommand{\\\\@evenhead}{\\\\raisebox{0pt}[\\\\headheight][0pt]{%\\n    \\\\vbox{\\\\hbox to\\\\textwidth{{\\\\rm\\\\thepage}\\\\hfil\\\\strut {\\\\sl\\\\leftmark}\\\\hfil}\\\\hrule}}}\\n\\n\\\\renewcommand{\\\\@oddhead}{\\\\raisebox{0pt}[\\\\headheight][0pt]{%\\n    \\\\vbox{\\\\hbox to\\\\textwidth{\\\\hfil\\\\strut {\\\\sl\\\\rightmark}\\\\hfil{\\\\rm\\\\thepage}}\\\\hrule}}}\\n\\n\\\\renewcommand{\\\\@evenfoot} {%\\n    \\\\vbox{\\\\hbox to\\\\textwidth{\\\\hfil\\\\strut{\\\\tiny\\n    \\\\textit{\\\\textbf{``Taurida Journal of Computer Science Theory and Mathematics\\'\\', 201?, ?}}}}}}\\n\\n\\\\renewcommand{\\\\@oddfoot} {%\\n    \\\\vbox{\\\\hbox to\\\\textwidth{\\\\hfil\\\\strut{\\\\tiny\\n    \\\\textit{\\\\textbf{<<Таврический вестник информатики и математики>>, 201?\\'\\\\;?}}}}}}\\n\\n\\\\makeatother\\n\\n\\\\pagenumbering{arabic}\\n\\n\\\\renewcommand{\\\\contentsname}{{\\\\bf СОДЕРЖАНИЕ}}\\n\\n\\\\thispagestyle{empty}\\n\\n\\\\markboth{{\\\\footnotesize{\\\\it \\\\textbf{В.\\\\;В.\\\\;Новиков,\\\\;А.О.\\\\;Худошина}}}} {{\\\\footnotesize {\\\\it \\\\textbf{О состоятельности оценок ортогонального разложения}}}}%обязательно к заполнению!\\n\\n\\\\noindent {\\\\bf \\\\footnotesize УДК: 519.23}\\n\\n\\\\noindent {\\\\bf \\\\footnotesize MSC2010: 62G08}\\n\\\\medskip\\n\\\\normalsize\\n\\n\\\\label{Novikov_begin}\\n\\n\\\\title{О состоятельности оценок ортогонального разложения по системе многочленов\\nЯкоби}\\n\\n\\\\author{В.\\\\;В.\\\\;Новиков,\\\\;А.\\\\;О.\\\\;Худошина}  %Автор статьи\\n\\n\\\\address{Саратовский национальный исследовательский государственный \\\\\\\\университет имени Н. Г. Чернышевского \\\\\\\\\\nмеханико--математический факультет \\\\\\\\\\nул. Астраханская, 83, Саратов, 410012, Российская Федерация \\\\\\\\\\ne-mail: \\\\textit{vvnovikov@yandex.ru,\\\\;hudoshina.an@mail.ru}}\\n\\n\\\\begin{abstractXr}\\n{О состоятельности оценок ортогонального разложения по системе многочленов\\nЯкоби}{Новиков\\\\;В.\\\\;В.,\\\\;Худошина\\\\;А.\\\\;О.}\\n\\n    Рассмотривается непараметрическая регрессионная модель\\n$Y_{i} =m(X_{i} )+\\\\varepsilon _{i} \\\\, ,\\\\, i=1,...,n,$\\nгде $m(x)$ -- неизвестная функция регрессии, подлежащая оцениванию на основе эмпирических данных $\\\\left\\\\{\\\\left(X_{i} ,Y_{i} \\\\right)\\\\right\\\\}_{i=1}^{n} $, $\\\\{ \\\\varepsilon _{i} \\\\} _{i=1}^{n} $ --- случайные ошибки.\\nПредполагается, что $X$ неслучайна, $m(x)$ удовлетворяет условию Липшица порядка 1, $\\\\textup{\\\\sffamily{E}}\\\\varepsilon _{i} =0$, $\\\\textup{\\\\sffamily{E}}(\\\\varepsilon _{i}\\\\varepsilon _{j}) =0$, $i\\\\neq j$,  и   $\\\\textup{\\\\sffamily{E}}\\\\varepsilon _{i}^2 <C$, $i=1,\\\\dots,n$. Кроме того, считаем, что наблюдения $\\\\{ Y _{i} \\\\} _{i=1}^{n} $ проведены в равноотстоящих точках $\\\\{ X _{i} \\\\} _{i=1}^{n} $ интервала $[-1, 1]$.\\n В статье получено условие состоятельности оценки ортогонального разложения вида\\n$\\n\\\\hat{m}_{N(n)} \\\\left(x\\\\right)=\\\\sum _{j=0}^{N\\\\left(n\\\\right)}\\\\hat{\\\\beta }_{j} \\\\varphi _{j} \\\\left(x\\\\right),$$  \\\\;\\\\hat{\\\\beta }_{j} =\\\\sum _{i=1}^{n}Y_{i} \\\\int _{A_{i} }\\\\varphi _{j} \\\\left(x\\\\right)\\\\rho(x)\\\\,dx,\\n$\\nгде $\\\\left\\\\{A_{i} \\\\right\\\\}_{i=1}^{n} $ --- множество неналегающих интервалов таких, что $\\\\cup_{i=1}^n A_{i}=[-1,1]$, $X_{i} \\\\in A_{i} $, $i=1,...,n$, $N(n)$ --- подходящим образом подобранный номер и\\n$\\\\varphi _{j} \\\\left(x\\\\right)= P_{j}^{\\\\, (\\\\alpha ,\\\\beta )} (x)$, $j=0,1,\\\\dots,$ --- многочлены Якоби, ортонормированные на $[-1,\\\\, 1]$ с весом $\\\\rho(x)=\\\\left(1-x\\\\right)^{\\\\alpha } \\\\left(1+x\\\\right)^{\\\\beta } $, $\\\\alpha,\\\\, \\\\beta >-1$. Показано, что если в дополнение к перечисленным выше ограничениям, выполнены условия $(N(n))^2=o(n)$, $\\\\min\\\\{\\\\alpha;\\\\, \\\\beta\\\\} >-{1}/{2}$ и $(N(n))^2=o(n/\\\\log n)$, $\\\\min\\\\{\\\\alpha;\\\\, \\\\beta\\\\} =-{1}/{2}$, то при $N\\\\left(n\\\\right)\\\\to \\\\infty $,  справедливо соотношение $\\\\hat{m}_{N(n)} \\\\left(x\\\\right)\\\\stackrel{p}{\\\\longrightarrow} m\\\\left(x\\\\right), \\\\;x\\\\in(-1,1)$. Если к тому же $q=\\\\max\\\\{\\\\alpha ;\\\\beta\\\\}<1/2$ и указанным выше ограничениям на рост удовлетворяет последовательность $\\\\left(N(n)\\\\right)^{2q+3}$, то $\\\\hat{m}_{N(n)} \\\\left(x\\\\right)\\\\stackrel{p}{\\\\longrightarrow} m\\\\left(x\\\\right)$ для всех $x$ из отрезка $[-1,1]$.\\n\\\\end{abstractXr}\\n\\\\keywordsr{непараметрическая регрессия, состоятельность, оценка, ортогональные ряды, многочлены Якоби}\\n\\n\\\\begin{abstractX}{On a consistency of orthogonal series estimators with respect to Jacobi polynomials system }{Novikov\\\\;V.\\\\;V., Hudoshina\\\\;A.\\\\;O.}%ДЛЯ СТАТЕЙ НА РУССКОМ И УКРАИНСКОМ ОБЯЗАТЕЛЬНА РАЗВЕРНУТАЯ АНГЛИЙСКАЯ АННОТАЦИЯ НА 1 СТР. А4, НАЗВАНИЕ СТАТЬИ И ФИО!!!\\nConsider a nonparametric regression model\\n\\\\[\\nY_{i} =m(X_{i} )+\\\\varepsilon _{i} \\\\, ,\\\\, i=1,\\\\dots,n,\\n\\\\]\\nwhere $m(x)$ is the unknown regression function to be estimated, $\\\\left\\\\{\\\\left(X_{i} ,Y_{i} \\\\right)\\\\right\\\\}_{i=1}^{n} $ is a dataset and $\\\\{ \\\\varepsilon _{i} \\\\} _{i=1}^{n} $ is observation errors.\\nSuppose that the regression function can be represented as a Fourier series\\n\\\\[\\nm\\\\left(x\\\\right)=\\\\sum _{j=0}^{\\\\infty }\\\\beta _{j} \\\\varphi _{j} \\\\left(x\\\\right),\\n\\\\]\\nwhere the system of functions $\\\\left\\\\{\\\\, \\\\varphi _{j} \\\\left(x\\\\right)\\\\right\\\\}_{j=0}^{\\\\, \\\\infty } $ constitute an orthonormal basis on $[-1,1]$, with respect to inner product\\n\\\\[\\n\\\\left(f ,g \\\\right)=\\\\int _{-1}^{1}f\\\\left(x\\\\right)g\\\\left(x\\\\right)\\\\rho(x)\\\\, dx,\\n \\\\]\\nand $\\\\{\\\\beta _{j}\\\\}$ are Fourier coeffcients. Next assume that observations $\\\\{ Y _{i} \\\\} _{i=1}^{n} $ have been taken at equidistant points $\\\\{ X _{i} \\\\} _{i=1}^{n} $ over the interval $[-1, 1]$ and let $\\\\left\\\\{A_{i} \\\\right\\\\}_{i=1}^{n} $ be a set of disjoint intervals such that $\\\\cup_{i=1}^n A_{i}=[-1,1]$ and $X_{i} \\\\in A_{i} $, $i=1,...,n$. Put\\n\\\\[\\n\\\\hat{m}_{N(n)} \\\\left(x\\\\right)=\\\\sum _{j=0}^{N\\\\left(n\\\\right)}\\\\hat{\\\\beta }_{j} \\\\varphi _{j} \\\\left(x\\\\right),  \\\\;\\\\hat{\\\\beta }_{j} =\\\\sum _{i=1}^{n}Y_{i} \\\\int _{A_{i} }\\\\varphi _{j} \\\\left(x\\\\right)\\\\rho(x)\\\\,dx,\\n\\\\]\\nwhere\\n$N(n)$ is a suitable finite number. This estimator is called an orthogonal series estimator of $m(x)$.\\n\\nIn the present paper we give the consistency condition for $\\\\hat{m}(x)$\\nprovided that the regression function $m(x)$ is Lipschitz continuous and\\n$\\n\\\\varphi _{j} \\\\left(x\\\\right)= P_{j}^{\\\\, (\\\\alpha ,\\\\beta )} (x),\\\\,j=0,1,\\\\dots,\\n$\\n is the Jacobi orthonormal polynomials system with certain restrictions for exponents $\\\\alpha,\\\\, \\\\beta $. The main result is as follows.\\n\\\\begin{theorem}  Suppose that the following conditions are satisfied:\\n\\n\\\\textup{i)}  $\\\\textup{\\\\sffamily{E}}\\\\varepsilon _{i} =0$, $\\\\textup{\\\\sffamily{E}}(\\\\varepsilon _{i}\\\\varepsilon _{j}) =0$, $i\\\\neq j$, {\\\\it and}  $\\\\textup{\\\\sffamily{E}}\\\\varepsilon _{i}^2 <C$, $i=1,\\\\dots,n$;\\n\\n\\\\textup{ii)}\\n\\\\[\\n m(\\\\cdot)\\\\in\\\\textup{Lip}_M1;\\n\\\\]\\n\\n\\\\textup{iii)}\\n\\\\[\\np:=\\\\min\\\\{\\\\alpha;\\\\beta\\\\}\\\\ge-1/2;\\n\\\\]\\n\\n \\\\textup{iv)}\\n\\\\[\\n(N(n))^2=o\\\\left\\\\{A_n(\\\\alpha;\\\\beta)\\\\right\\\\},\\\\;n\\\\to\\\\infty,\\n\\\\]\\t\\nwhere $A_n(\\\\alpha,\\\\beta)=n$, if $p>-1/2$ and $A_n(\\\\alpha,\\\\beta)=n/\\\\log n$, if $p=-1/2$.\\n\\tThen  $\\\\hat{m}_{N} \\\\left(x\\\\right)\\\\stackrel{p}{\\\\longrightarrow} m\\\\left(x\\\\right), \\\\;N\\\\left(n\\\\right)\\\\to \\\\infty$ for every $x\\\\in(-1,1)$.\\n\\\\end{theorem}\\n\\\\begin{theorem}\\nLet the conditions {i)--iii)} of previous theorem are satisfied, $q=\\\\max\\\\{\\\\alpha;\\\\beta\\\\}<1/2$, and\\n\\\\[\\n\\\\left(N(n)\\\\right)^{2q+3}=o\\\\left\\\\{A_n(\\\\alpha,\\\\beta)\\\\right\\\\},\\\\;n\\\\to\\\\infty.\\n\\\\]\\n\\tThen $\\\\hat{m}_{N} \\\\left(x\\\\right)\\\\stackrel{p}{\\\\longrightarrow} m\\\\left(x\\\\right)$, $N\\\\left(n\\\\right)\\\\to \\\\infty$, for every $x\\\\in[-1,1]$.\\n\\\\end{theorem}\\n\\\\end{abstractX}\\n\\\\keywords{nonparametric regression, consistency, estimator, orthogonal series, Jacobi polynomials}\\n\\n\\\\section*{\\\\textbf{Введение}}\\nРассмотрим непараметричесую регрессионную модель\\n\\t\\\\begin{equation} \\\\label{npar}\\nY_{i} =m(X_{i} )+\\\\varepsilon _{i} \\\\, ,\\\\, i=1,...,n,\\n \\\\end{equation}\\nгде $m(x)=\\\\textup{\\\\sffamily{E}}\\\\left(Y|X=x\\\\right)$ -- неизвестная функция регрессии, подлежащая оцениванию на основе эмпирических данных $\\\\left\\\\{\\\\left(X_{i} ,Y_{i} \\\\right)\\\\right\\\\}_{i=1}^{n} $, $\\\\{ \\\\varepsilon _{i} \\\\} _{i=1}^{n} $ -- случайные ошибки.\\nВ настоящей заметке обсуждаются достаточные условия состоятельности {\\\\it оценок ортогонального разложения} $\\\\hat{m}(x)$ основанных на представлении функции $m\\\\left(x\\\\right)$ рядом Фурье\\n\\\\begin{equation} \\\\label{GrindEQ__1_}\\nm\\\\left(x\\\\right)=\\\\sum _{j=0}^{\\\\infty }\\\\beta _{j} \\\\varphi _{j} \\\\left(x\\\\right)\\n\\\\end{equation}\\nпо некоторой заранее выбранной ортонормированной системе $\\\\left\\\\{\\\\, \\\\varphi _{j} \\\\left(x\\\\right)\\\\right\\\\}_{j=0}^{\\\\, \\\\infty } $. При построении таких оценок бесконечный ряд \\\\eqref{GrindEQ__1_} заменяется его частичной суммой подходящего порядка $N\\\\left(n\\\\right)$, а коэффициенты Фурье $\\\\beta _{j} $ --- их оценками $\\\\hat{\\\\beta }_{j} $. Хотя методы оценивания непараметрической регрессии, связанные с ортогональными разложениями, уступают в популярности ядерным методам\\n(см., например, \\\\cite{Racine2008} и библиографию там же),\\n они также представляют значительный интерес. Это связано, прежде всего, с простотой и естественностью конструкции таких оценок, а также с не слишком обременительными условиями, обеспечивающими их состоятельность. Обсуждению условий состоятельности и прикладным аспектам оценок ортогонального разложения посвящена, например, серия работ \\\\cite{Rutkowski1982}--\\\\cite{GREBLICKI}. Эти вопросы рассматриваются также в известных книгах \\\\cite{Hardle1993}, \\\\cite{LI_RACINE}.\\n\\n\\nПусть система $\\\\left\\\\{\\\\, \\\\varphi _{i} \\\\left(x\\\\right)\\\\right\\\\}_{\\\\, i=0}^{\\\\, \\\\infty } $ ортонормирована на $[-1,\\\\, 1]$ относительно скалярного произведения\\n\\\\[\\n\\\\left(f,g\\\\right)=\\\\int _{-1}^{1}f\\\\left(x\\\\right)g\\\\left(x\\\\right)\\\\rho(x)\\\\, dx ,\\n\\\\]\\nгде $\\\\rho(x)$ --- весовая функция. Предположим, далее, что переменная $X$ принимает равноотстоящие значения\\n\\\\begin{equation} \\\\label{nodes}\\nX_i=-1+\\\\frac{2(i-1)}{n}+\\\\theta_n,\\\\;i=1,\\\\dots,n,\\n \\\\end{equation}\\n где $\\\\;\\\\theta_n\\\\in\\\\left[0,{2}/{n}\\\\right]$ --- постоянные числа и $\\\\left\\\\{A_{i} \\\\right\\\\}_{i=1}^{n} $ --- разбиение отрезка $[-1,\\\\, 1]$ на неналегающие интервалы такие, что $X_{i} \\\\in A_{i} $, $i=1,\\\\dots,n$.\\nТогда\\n\\\\[\\n\\\\beta _{j} =\\\\sum _{i=1}^{n}\\\\int _{A_{i} }m\\\\left(x\\\\right)\\\\, \\\\varphi _{j} \\\\left(x\\\\right)\\\\rho(x)\\\\, dx  \\\\approx \\\\sum _{i=1}^{n}m\\\\left(X_{i} \\\\right)\\\\int _{A_{i} }\\\\varphi _{j} \\\\left(x\\\\right)\\\\rho(x)\\\\,dx  .\\n\\\\]\\nЗаменяя значение $m\\\\left(X_{i} \\\\right)$ на $Y_{i} $, получим оценку для коэффициента $\\\\beta _{j} $:\\n\\\\begin{equation} \\\\label{beta}\\n\\\\hat{\\\\beta }_{j} =\\\\sum _{i=1}^{n}Y_{i} \\\\int _{A_{i} }\\\\varphi _{j} \\\\left(x\\\\right)\\\\rho(x)\\\\,dx,\\n \\\\end{equation}\\nпосле чего, ограничиваясь конечным числом $N\\\\left(n\\\\right)$ членов разложения \\\\eqref{GrindEQ__1_}, получаем искомую оценку для функции регрессии\\n\\\\begin{equation} \\\\label{GrindEQ__2_}\\n\\\\hat{m}_{N(n)} \\\\left(x\\\\right)=\\\\sum _{j=0}^{N\\\\left(n\\\\right)}\\\\hat{\\\\beta }_{j} \\\\varphi _{j} \\\\left(x\\\\right).\\n\\\\end{equation}\\nОчевидно, что для удовлетворительного приближения интегралов $\\\\beta _{j} $ конечными суммами $\\\\hat{\\\\beta }_{j} $ количество наблюдений $n$ должно заметно превосходить номер $j=0,\\\\dots,N(n),$ любого из оцениваемых коэффициентов. Возникает вопрос, насколько быстро может расти последовательность $N\\\\left(n\\\\right)$ при заданной гладкости функции $m(x)$ и при том, чтобы имела место приемлемая аппроксимация $m(x)$ посредством $\\\\hat{m}(x)$, иными словами, состоятельность $\\\\hat{m}(x)$?\\n\\nПолученное в настоящей статье утверждение дает ограничение на порядок роста величин $N\\\\left(n\\\\right)$ по сравнению с $n$, гарантирующее состоятельность оценки \\\\eqref{GrindEQ__2_} для случая, когда $\\\\varphi _{j} \\\\left(x\\\\right)$, $j=0,1,\\\\ldots,$ ---  ортонормированные многочлены Якоби с некоторыми ограничениями на показатели $\\\\alpha,\\\\,\\\\beta$.\\n\\n\\n\\n\\n\\\\section{\\\\textbf{Обозначения и вспомогательные утверждения}}\\n\\nПусть $P_{j}^{\\\\, (\\\\alpha ,\\\\beta )} (x)$, $j=0,1,\\\\ldots,$ --- многочлены Якоби, ортонормированные на отрезке $[-1,\\\\, 1]$ с весом $\\\\rho(x)=\\\\left(1-x\\\\right)^{\\\\alpha } \\\\left(1+x\\\\right)^{\\\\beta } $, $\\\\alpha,\\\\, \\\\beta >-1$ и пусть $p:=\\\\min\\\\{\\\\alpha;\\\\, \\\\beta \\\\}$, $q:=\\\\max\\\\{\\\\alpha;\\\\, \\\\beta \\\\}$.\\n Через $\\\\textup{Lip}_M\\\\, \\\\alpha$, $0<\\\\alpha\\\\le1$, обозначается класс функций $f$, удовлетворяющих на отрезке $[-1,1]$ условию Липшица порядка $\\\\alpha$ с константой $M>0$, т. е. таких, что $\\\\left|f(x)-f(y)\\\\right|\\\\le M|x-y|^\\\\alpha$ для любых $x,y\\\\in[-1,1]$. Далее, как обычно, запись $f(n)\\\\sim g(n),\\\\,n\\\\to\\\\infty$, означает, что существует последовательность $h(n)\\\\to 1,n\\\\to\\\\infty$, такая, что для достаточно больших $n$ имеет место равенство $f(n)=h(n)g(n)$. Наконец, через $C$, $C(p)$, $C(p,q)$ и т. п. будем обозначать постоянные (вообще говоря, различные), соответственно, абсолютные или зависящие от одного или нескольких параметров.\\n\\\\begin{lemmar}\\n\\\\cite{Suetin1979} При условии $p\\\\ge -1/2$ имеет место следующее весовое неравенство для ортонормированных многочленов Якоби\\n\\\\[\\n\\\\left(1-x\\\\right)^{\\\\frac{\\\\alpha }{2}+\\\\frac{1}{4}} \\\\left(1+x\\\\right)^{\\\\frac{\\\\beta }{2}+\\\\frac{1}{4} }\\\\left| P_{j}^{\\\\, (\\\\alpha ,\\\\beta )} (x)\\\\right|\\\\le C(\\\\alpha,\\\\beta),\\\\;x\\\\in[-1,1],\\n\\\\]\\nили\\n\\\\begin{equation}\\\\label{weight}\\n\\\\rho(x)\\\\left|P_{j}^{\\\\, (\\\\alpha ,\\\\beta )} (x)\\\\right|\\\\le C(\\\\alpha,\\\\beta)\\\\left(1-x\\\\right)^{\\\\frac{\\\\alpha }{2}-\\\\frac{1}{4}} \\\\left(1+x\\\\right)^{\\\\frac{\\\\beta }{2}-\\\\frac{1}{4} }.\\n  \\\\end{equation}\\n\\t\\\\end{lemmar}\\n\\t\\n\\t\\\\begin{lemmar}\\n\\\\cite{Alexits1963}\\n%Теорема 1.5.4.)\\nВ каждой точке $x\\\\in(-1,1)$ для ортонормированных многочленов Якоби справедливо соотношение\\n\\\\begin{equation}\\\\label{O_x}\\nP_{j}^{\\\\, (\\\\alpha ,\\\\beta )} (x)=O_x(1),\\n  \\\\end{equation}\\nкоторое выполняется равномерно на каждом интервале $[a,b]\\\\subset(-1,1)$.\\n\\\\end{lemmar}\\n\\t\\n\\t\\n\\\\begin{lemmar} Положим для $n\\\\ge2$\\n\\t\\\\begin{equation}\\\\label{A_n(a,b)}\\nA_n(\\\\alpha,\\\\beta):=\\n\\\\begin{cases}\\nn, & \\\\text{если }p >-{1}/{2}; \\\\\\\\\\n n/\\\\log n, & \\\\text{если }p= -{1}/{2}.\\n\\\\end{cases}\\n \\\\end{equation}\\nТогда при $\\\\alpha,\\\\beta\\\\ge-1/2$ справедливо неравенство\\n\\t\\\\begin{equation}\\\\label{int^2_}\\n\\\\sum_{i=1}^{n}\\\\left(\\\\int_{{A}_i}P_{j}^{\\\\, (\\\\alpha ,\\\\beta )}( {x})\\\\rho(x)\\\\,d {x}\\\\right)^2\\\\le\\\\frac{C(\\\\alpha,\\\\beta)}{ A_n(\\\\alpha,\\\\beta)}.\\n \\\\end{equation}\\n\\t\\\\begin{proof}\\n\\tОбозначим $\\\\gamma=\\\\alpha/2-1/4$ и $\\\\delta=\\\\beta/2-1/4$. Тогда в силу (\\\\ref{weight})\\n\\\\begin{equation}\\\\label{gamma,beta_}\\n\\\\sum_{i=1}^{n}\\\\left(\\\\int_{{A}_i}P_{j}^{\\\\, (\\\\alpha ,\\\\beta )}( {x})\\\\rho(x)\\\\,d {x}\\\\right)^2\\\\le{C(\\\\alpha,\\\\beta)}\\\\sum_{i=1}^{n}\\\\left( \\\\int_{{A}_i}(1-x)^{\\\\gamma}(1+x)^\\\\delta\\\\,dx\\\\right)^2.\\n \\\\end{equation}\\nДокажем неравенство (\\\\ref{int^2_}) сначала для случая $p >-{1}/{2}$.\\nЗаметим, что если $\\\\min\\\\{\\\\gamma;\\\\delta\\\\}\\\\ge0$ или, что то же самое, $\\\\min\\\\{\\\\alpha;\\\\, \\\\beta\\\\} \\\\ge1/2$, то (\\\\ref{int^2_}) непосредственно следует из (\\\\ref{gamma,beta_}).\\nПоэтому предположим, для определенности, что $\\\\gamma\\\\in(-1/2,0)$ и пусть индекс $i$ таков, что $A_i\\\\subset[0,1]$, причем $i\\\\le n-2$. Тогда по теореме о среднем найдется $t_i\\\\in A_i$ для которого\\n\\\\begin{equation}\\\\label{A_i>0}\\n\\\\int_{{A}_i}(1-x)^{\\\\gamma}(1+x)^\\\\delta\\\\,dx\\\\le C(\\\\beta)\\\\int_{{A}_i}(1-x)^{\\\\gamma}\\\\,dx\\\\le\\\\frac{C(\\\\beta)}{n}(1-t_i)^{\\\\gamma}.\\n \\\\end{equation}\\nПоскольку\\n$$\\nt_i\\\\le X_{i+1}=-1+\\\\frac{2\\\\, i}{n}+\\\\theta_n\\\\le-1+\\\\frac{2( i+1)}{n}<1,\\n$$\\n из (\\\\ref{A_i>0}) находим\\n\\\\[\\n\\\\int_{{A}_i}(1-x)^{\\\\gamma}(1+x)^\\\\delta\\\\,dx\\\\le\\\\frac{C(\\\\beta)}{n}\\\\left(2-\\\\frac{2( i+1)}{n}\\\\right)^{\\\\gamma}=\\\\frac{C(\\\\beta)}{n^{1+\\\\gamma}}\\\\left(n-i-1\\\\right)^{\\\\gamma}.\\n\\\\]\\nУчитывая, что\\n\\\\begin{equation}\\\\label{p>-1}\\n\\\\sum_{k=1}^n k^r\\\\sim\\\\frac{n^{r+1}}{r+1},\\\\;n\\\\to\\\\infty,\\\\;r>-1,\\n \\\\end{equation}\\nи\\n\\\\[\\n\\\\int_{{A}_{n-1}}(1-x)^{\\\\gamma}(1+x)^\\\\delta\\\\,dx\\\\le C(\\\\beta)\\\\int_{1-\\\\frac{6}{n}}^1(1-x)^{\\\\gamma}\\\\,dx\\\\le\\\\frac{C(\\\\alpha,\\\\beta)}{n^{1+\\\\gamma}},\\n\\\\]\\n\\\\[\\n\\\\int_{{A}_{n}}(1-x)^{\\\\gamma}(1+x)^\\\\delta\\\\,dx\\\\le C(\\\\beta)\\\\int_{1-\\\\frac{4}{n}}^1(1-x)^{\\\\gamma}\\\\,dx\\\\le\\\\frac{C(\\\\alpha,\\\\beta)}{n^{1+\\\\gamma}},\\n\\\\]\\nполучаем,\\n\\\\[\\n\\\\sum_{i:\\\\,A_i\\\\in[0,1]}\\\\left( \\\\int_{{A}_i}(1-x)^{\\\\gamma}(1+x)^\\\\delta\\\\,dx\\\\right)^2<\\\\frac{C(\\\\alpha,\\\\beta)}{n^{2(1+\\\\gamma)}}\\\\sum_{i=1}^{n-2}\\\\left(n-i-1\\\\right)^{2\\\\gamma}+\\\\frac{C(\\\\alpha,\\\\beta)}{n^{2(1+\\\\gamma)}}\\n\\\\]\\n\\\\[\\n\\\\le \\\\frac{C(\\\\alpha,\\\\beta)}{n^{2(1+\\\\gamma)}}\\\\cdot n^{2\\\\gamma+1}+\\\\frac{C(\\\\alpha,\\\\beta)}{n^{2(1+\\\\gamma)}}\\\\le \\\\frac{C(\\\\alpha,\\\\beta)}{n}.\\n\\\\]\\nЕсли окажется, что не только $\\\\gamma$, но и $\\\\delta\\\\in(-1/2,0)$, то применяя аналогичные рассуждения (с заменой $\\\\gamma$ на $\\\\delta$) к сумме по $i$ таким, что $A_i\\\\subset[-1,0)$, получим для нее ту же оценку сверху величиной $C(\\\\alpha,\\\\beta){n}^{-1}$. В противном случае, т. е. если $\\\\delta\\\\ge0$, то требуемая оценка для этой суммы, как было указано, получается сразу. Наконец, оставшееся слагаемое с номером $i_0$ для которого $0\\\\in A_{i_0}\\\\not\\\\subset[-1,0),\\\\;A_{i_0}\\\\cap[-1,0)\\\\ne\\\\varnothing$ сразу оценивается сверху величиной $C(\\\\alpha,\\\\beta){n}^{-2}$. Таким образом, неравенство (\\\\ref{int^2_}) для случая $p>-1/2$ доказано.\\n\\nДля доказательства (\\\\ref{int^2_}) в случае $p=-1/2$ следует провести те же рассуждения, воспользовавшись вместо (\\\\ref{p>-1}) соотношением $\\\\sum_{k=1}^n k^{-1}\\\\sim\\\\log n$, $n\\\\to\\\\infty$.\\n\\t\\t\\\\end{proof}\\n\\t\\t\\\\end{lemmar}\\n\\n\\n\\\\section{\\\\textbf{Основные результаты}}\\n\\n%{\\\\bf Теорема. }\\n%\\\\begin{definitionr}\\n%\\\\end{definitionr}\\n\\\\begin{theoremr} Пусть выполнены условия:\\n\\n\\\\textup{i)}  $\\\\textup{\\\\sffamily{E}}\\\\varepsilon _{i} =0$, $\\\\textup{\\\\sffamily{E}}(\\\\varepsilon _{i}\\\\varepsilon _{j}) =0$, $i\\\\neq j$, {\\\\it и}  $\\\\textup{\\\\sffamily{E}}\\\\varepsilon _{i}^2 <C$, $i=1,\\\\dots,n$, где $C$ --- некоторая постоянная;\\n\\n\\\\textup{ii)}  \\\\begin{equation}\\\\label{Lip}\\n m(\\\\cdot)\\\\in\\\\textup{Lip}_M1;\\n  \\\\end{equation}\\n\\n\\\\textup{iii)}  \\\\begin{equation}\\\\label{Epsilon}\\np=\\\\min\\\\{\\\\alpha;\\\\beta\\\\}\\\\ge-1/2;\\n\\\\end{equation}\\n\\n \\\\textup{iv)} \\\\begin{equation}\\\\label{o(n/ln)}\\n\\\\left(N(n)\\\\right)^2=o\\\\left\\\\{A_n(\\\\alpha;\\\\beta)\\\\right\\\\},\\\\;n\\\\to\\\\infty.\\n\\t\\\\end{equation}\\n\\tТогда при $N\\\\left(n\\\\right)\\\\to \\\\infty $ для оценки \\\\textup{(\\\\ref{GrindEQ__2_})} имеем\\n \\\\begin{equation}\\\\label{o(n)}\\n\\\\hat{m}_{N} \\\\left(x\\\\right)\\\\stackrel{p}{\\\\longrightarrow} m\\\\left(x\\\\right),\\\\;x\\\\in(-1,1).\\n  \\\\end{equation}\\n\\t\\n\\n\\t\\n\\t\\n\\t\\n\\\\begin{proof}%просьба использовать только эту команду для начала\\nПрежде всего, заметим, что из (\\\\ref{Lip}) следует (см., например, \\\\cite{Suetin1979}, гл.VII) равномерная сходимость ряда Фурье--Якоби (\\\\ref{GrindEQ__1_}) c произвольными $\\\\alpha,\\\\,\\\\beta>-1$ на любом интервале $[a,b]\\\\subset(-1,1)$, и тем более, в каждой точке $x\\\\in(-1,1)$. Далее, в\\nпредположениях теоремы справедливо равенство\\n\\\\[\\n\\\\textup{\\\\sffamily{E}}(\\\\hat{\\\\beta}_j)=\\\\sum_{i=1}^{n}m(x_{i})\\\\int_{{A}_i}P_{j}^{\\\\, (\\\\alpha ,\\\\beta )}(x)\\\\rho(x)\\\\,dx,\\n\\\\]\\nтак что, учитывая (\\\\ref{Lip}), будем иметь\\n$$\\n\\\\left|\\\\textup{\\\\sffamily{E}}\\\\hat{m}_{N}(x)-m(x)\\\\right|=\\\\left|\\\\textup{\\\\sffamily{E}}\\\\left( \\\\sum_{j=0}^{N}\\\\hat{\\\\beta}_jP_{j}^{\\\\, (\\\\alpha ,\\\\beta )}(x)\\\\right)-m(x)\\\\right|\\n$$\\n%\\\\sum_{j=0}^{\\\\infty}{\\\\beta}_j\\\\varphi_{j}(x)\\n$$\\n\\\\leq \\\\left|\\\\displaystyle \\\\sum_{j=0}^{N}P_{j}^{\\\\, (\\\\alpha ,\\\\beta )}(x)\\\\sum_{i=1}^{n}\\\\int_{{A}_i}(m(x_{i})-m( {u}))P_{j}^{\\\\, (\\\\alpha ,\\\\beta )}( {u})\\\\rho(x)\\\\,d {u}\\\\right|\\n$$\\n$$\\n+\\\\left|\\\\sum_{j=0}^{N}P_{j}^{\\\\, (\\\\alpha ,\\\\beta )}(x)\\\\sum_{i=1}^{n}\\\\int_{{A}_i} P_{j}^{\\\\, (\\\\alpha ,\\\\beta )}( {u})m( {u})\\\\rho(x)\\\\,du-m(x)\\\\right|\\n$$\\n$$\\n\\\\le CMn^{-1}\\\\displaystyle \\\\sum_{j=0}^{N}|P_{j}^{\\\\, (\\\\alpha ,\\\\beta )}(x)|\\\\int_{-1}^1|P_{j}^{\\\\, (\\\\alpha ,\\\\beta )}( {u})|\\\\rho(u)\\\\,d {u}+\\\\left|\\\\sum_{j=N+1}^{\\\\infty}\\\\beta_{j}P_{j}^{\\\\, (\\\\alpha ,\\\\beta )}(x)\\\\right|,\\n$$\\nоткуда в силу леммы 1 получаем\\n\\\\begin{equation}\\\\label{Expect}\\n\\\\left|\\\\textup{\\\\sffamily{E}}\\\\hat{m}_{N}(x)-m(x)\\\\right|\\\\leq\\\\ C(\\\\alpha,\\\\beta)n^{-1}\\\\sum_{j=0}^{N}\\\\ \\\\left|P_{j}^{\\\\, (\\\\alpha ,\\\\beta )}(x)\\\\right|+\\\\left|\\\\sum_{j=N+1}^{\\\\infty}\\\\beta_{j}P_{j}^{\\\\, (\\\\alpha ,\\\\beta )}(x)\\\\right|.\\n \\\\end{equation}\\nПрименив лемму 2, найдем\\n\\\\begin{equation}\\\\label{Expect_n^{-1}}\\n\\\\left|\\\\textup{\\\\sffamily{E}}\\\\hat{m}_{N}(x)-m(x)\\\\right|\\\\leq\\\\ C(\\\\alpha,\\\\beta,x)Nn^{-1}+\\\\left|\\\\sum_{j=N+1}^{\\\\infty}\\\\beta_{j}P_{j}^{\\\\, (\\\\alpha ,\\\\beta )}(x)\\\\right|.\\n \\\\end{equation}\\n Оценим дисперсию $\\\\hat{m}_N(x)$. Имеем\\n$$\\n\\\\textup{\\\\sffamily{D}}(\\\\widehat{m}_N (x))=\\\\sum_{j=0}^N \\\\left(P^{(\\\\alpha, \\\\beta)}_j(x)\\\\right)^2 \\\\  \\\\textup{\\\\sffamily{D}}(\\\\widehat{\\\\beta}_j)+\\n$$\\n$$\\n2\\\\sum_{0\\\\le k < j \\\\le N } P^{(\\\\alpha, \\\\beta)}_j(x) \\\\ P^{(\\\\alpha, \\\\beta)}_k(x) \\\\ \\\\textup{\\\\sffamily{cov}} (\\\\widehat{\\\\beta}_j, \\\\widehat{\\\\beta}_k)\\\\equiv A+B.\\n$$\\nВ силу условий i), лемм 2 и 3\\n\\\\[\\nA\\\\le C(\\\\alpha,\\\\beta,x)\\\\sum_{j=0}^{N}\\\\sum_{i=1}^{n}\\\\textup{\\\\sffamily{D}}\\\\left(\\\\varepsilon_i\\\\right)\\\\left(\\\\int_{{A}_i}P_{j}^{\\\\, (\\\\alpha ,\\\\beta )}( {x})\\\\rho(x)\\\\,d {x}\\\\right)^2\\n\\\\]\\n\\\\[\\\\le C(\\\\alpha,\\\\beta,x)\\\\sum_{j=0}^{N}\\\\sum_{i=1}^{n}\\\\left(\\\\int_{{A}_i}P_{j}^{\\\\, (\\\\alpha ,\\\\beta )}( {x})\\\\rho(x)\\\\,d {x}\\\\right)^2\\\\le\\n\\\\frac{C(\\\\alpha,\\\\beta,x)N}{A_n(\\\\alpha,\\\\beta)}.\\n\\\\]\\tДалее, в силу (\\\\ref{O_x})\\n\\t$$\\n\\t\\\\vert B \\\\vert \\\\le C(\\\\alpha, \\\\beta, x) \\\\sum_{0\\\\le k \\\\le j \\\\le N } \\\\Bigl| \\\\textup{\\\\sffamily{cov}} (\\\\widehat{\\\\beta}_k, \\\\widehat{\\\\beta}_j) \\\\Bigr|.\\n\\t$$\\nПоложим\\n\\\\[\\\\widehat{\\\\beta}_j=\\\\sum_{i=1}^n Y_i \\\\int_{A_i}P^{(\\\\alpha, \\\\beta)}_j(x) \\\\ \\\\rho(x) dx\\\\equiv \\\\sum_{i=1}^n a_{i,j} \\\\ Y_i, \\\\ j=0,1,...,N.\\n\\\\]\\tТогда, учитывая, вытекающее из условия равенство,\\n\\\\[\\\\textup{\\\\sffamily{cov}}(Y_i, Y_s)=\\\\textup{\\\\sffamily{D}}(Y_i)\\\\delta_{is}=\\\\textup{\\\\sffamily{D}}(\\\\varepsilon_i)\\\\delta_{is},\\n\\\\]будем иметь\\n\\t\\t%Оценим $B.$ Полагаем  \\\\begin{equation}\\\\label{B_1} \\\\widehat{\\\\beta}_j=\\\\sum_{i=1}^n Y_i \\\\int_{A_i}P^{(\\\\alpha, \\\\beta)}_j(x) \\\\ \\\\rho(x) dx\\\\equiv \\\\sum_{i=1}^n a_{i,j} \\\\ Y_i, \\\\ j=0,1,...,N.   \\\\end{equation}\\n%По условию  \\\\begin{equation}\\\\label{B_2} \\\\textup{\\\\sffamily{cov}}(Y_i, Y_s)=\\\\textup{\\\\sffamily{D}}(Y_i)\\\\delta_{is}=\\\\textup{\\\\sffamily{D}}(\\\\varepsilon_i)\\\\delta_{is},  \\\\end{equation}\\n%следовательно, в силу (\\\\ref{O_x}) $$\\\\vert B \\\\vert \\\\le C(\\\\alpha, \\\\beta, x) \\\\sum_{0\\\\le k \\\\le j \\\\le N } \\\\Bigl| \\\\textup{\\\\sffamily{cov}} (\\\\widehat{\\\\beta}_k, \\\\widehat{\\\\beta}_j) \\\\Bigr|. $$\\n%Далее, с учетом (\\\\ref{B_1}), (\\\\ref{B_2}) и неравенства Коши-Буняковского, имеем\\n$$\\\\Bigl| \\\\textup{\\\\sffamily{cov}} (\\\\widehat{\\\\beta}_k, \\\\widehat{\\\\beta}_j) \\\\Bigr|= \\\\Bigl|  \\\\sum_{i=1}^n \\\\sum_{s=1}^n a_{i,k} \\\\ a_{s,j} \\\\ \\\\textup{\\\\sffamily{cov}}(Y_i,Y_s) \\\\Bigr| $$ $$\\\\le\\\\sum_{i=1}^n \\\\vert  a_{i,k} \\\\ a_{i,j}\\\\vert \\\\textup{\\\\sffamily{D}}(Y_i) \\\\le C \\\\sum_{i=1}^n \\\\vert a_{i,k} \\\\ a_{i,j} \\\\vert \\\\le C \\\\sqrt{\\\\sum_{i=1}^n a_{i,k}^2 \\\\sum_{i=1}^n a_{i,j}^2}\\\\,.$$\\nПрименяя к последнему выражению лемму 3, найдем\\n$$\\\\vert B \\\\vert \\\\le \\\\frac{N(N+1)}{2}\\\\cdot \\\\frac{C(\\\\alpha, \\\\beta, x)}{A_n(\\\\alpha, \\\\beta)}\\\\le \\\\frac{N^2 C(\\\\alpha, \\\\beta, x)}{A_n (\\\\alpha,\\\\beta)},$$\\nтак что\\n \\\\begin{equation}\\\\label{D}\\n\\\\textup{\\\\sffamily{D}}(\\\\widehat{m}_N (x))\\\\le \\\\frac{N^2 C(\\\\alpha, \\\\beta, x)}{A_n (\\\\alpha,\\\\beta)}.\\n  \\\\end{equation}\\n\\tТаким образом, из (\\\\ref{o(n/ln)}), (\\\\ref{Expect})--(\\\\ref{D}) и сходимости ряда (\\\\ref{GrindEQ__1_}) следует, что\\n \\\\begin{equation}\\\\label{E}\\n|\\\\textup{\\\\sffamily{E}}\\\\hat{m}_{N}(x)-m(x)|\\\\to0,\\\\;n\\\\to\\\\infty,\\n  \\\\end{equation}\\nи\\n \\\\begin{equation}\\\\label{V}\\n|\\\\textup{\\\\sffamily{D}}\\\\hat{m}_N(x)|\\\\to0,\\\\;n\\\\to\\\\infty.\\n  \\\\end{equation}\\n\\t Докажем теперь (\\\\ref{o(n)}). Фиксируем произвольное $\\\\varepsilon>0$. В силу (\\\\ref{E}) существует такой номер $n_0(\\\\varepsilon,x)$, что для всех $n>n_0$\\n\\t\\\\[\\n\\\\left|\\\\textup{\\\\sffamily{E}}\\\\hat{m}_{N(n)}\\\\left(x\\\\right)-m\\\\left(x\\\\right)   \\\\right|<\\\\frac{\\\\varepsilon}{2}\\\\,,\\n\\\\]\\nпоскольку предполагается, что $N\\\\left(n\\\\right)\\\\to \\\\infty $ при $n\\\\to \\\\infty $.\\n\\t\\tТогда\\n\\\\[\\n\\\\textup{\\\\sffamily{P}}\\\\left(\\\\left|\\\\hat{m}_{N} \\\\left(x\\\\right) -m\\\\left(x\\\\right)\\\\right|>\\\\varepsilon\\\\right)\\n\\\\le\\n\\\\textup{\\\\sffamily{P}}\\\\left(\\\\left|\\\\hat{m}_{N} \\\\left(x\\\\right) -\\\\textup{\\\\sffamily{E}}\\\\hat{m}_{N}\\\\left(x\\\\right)\\\\right|+\\\\left|\\\\textup{\\\\sffamily{E}}\\\\hat{m}_{N}\\\\left(x\\\\right)-m\\\\left(x\\\\right)   \\\\right|>\\\\varepsilon\\\\right)\\n\\\\]\\n \\\\[\\n\\\\le\\\\textup{\\\\sffamily{P}}\\\\left(\\\\left|\\\\hat{m}_{N} \\\\left(x\\\\right) -\\\\textup{\\\\sffamily{E}}\\\\hat{m}_{N}\\\\left(x\\\\right)\\\\right|>\\\\frac{\\\\varepsilon}{2}\\\\right).\\n\\\\]\\n Применив неравенство Чебышева, на основании (\\\\ref{V}) получим\\n\\\\[\\n\\\\textup{\\\\sffamily{P}}\\\\left(\\\\left|\\\\hat{m}_{N} \\\\left(x\\\\right) -\\\\textup{\\\\sffamily{E}}\\\\hat{m}_{N}\\\\left(x\\\\right)\\\\right|>\\\\frac{\\\\varepsilon}{2}\\\\right)<\\\\frac{4\\\\textup{\\\\sffamily{D}}\\\\hat{m}_N(x)}{\\\\varepsilon^2}\\\\to 0,\\\\; n\\\\to\\\\infty.\\n\\\\]\\n\\\\end{proof}%и конца доказательств!\\n\\\\end{theoremr}\\n\\n\\\\begin{remarkr*}\\nЛегко видеть, что в условиях теоремы соотношение (\\\\ref{o(n)}) выполняется равномерно относительно параметра $x$ на любом замкнутом интервале $[a,b]\\\\subset(-1,1)$, поскольку правые части соотношений (\\\\ref{Expect}), (\\\\ref{E}) и (\\\\ref{V}) стремятся к нулю равномерно по $x\\\\in[a,b]$.\\n\\\\end{remarkr*}\\n\\n\\n\\\\begin{theoremr}\\nПусть выполнены условия {i)--iii)} предыдущей теоремы, $q<1/2$, и, кроме того,\\n \\\\begin{equation}\\\\label{o(N^2q+2)}\\n\\\\left(N(n)\\\\right)^{2q+3}=o\\\\left\\\\{A_n(\\\\alpha,\\\\beta)\\\\right\\\\},\\\\;n\\\\to\\\\infty.\\n\\t\\\\end{equation}\\n\\tТогда\\n\\t \\\\begin{equation}\\\\label{o(n)_1}\\n\\\\hat{m}_{N} \\\\left(x\\\\right)\\\\stackrel{p}{\\\\longrightarrow} m\\\\left(x\\\\right),\\\\;x\\\\in[-1,1].\\n\\t\\\\end{equation}\\n\\n\\\\begin{proof}\\nИзвестно (см. \\\\cite{Suetin1979}, гл. VII), что если $q \\\\ge-1/2$, $m\\\\in C^{s}  [-1,1]$\\n и $m^{(s)}\\\\in \\\\textup{Lip}_M \\\\gamma$,\\n$0<\\\\gamma\\\\le1$,  причем выполнено условие $s+\\\\gamma>q+1/2$, то ряд Фурье--Якоби функции $m$ сходится к ней на всем замкнутом промежутке ортогональности. Поэтому в предположениях теоремы имеет место равномерная сходимость ряда на всем отрезке $[-1,1]$. Далее (см. там же), при условии $q \\\\ge-1/2$ для ортонормированного многочлена Якоби имеет место равномерная оценка\\n\\t \\\\begin{equation}\\\\label{n^q+1/2}\\n\\\\left|P^{(\\\\alpha,\\\\beta)}_j(x)\\\\right|\\\\le C(\\\\alpha,\\\\beta)j^{\\\\,q+1/2},\\\\;x\\\\in[-1,1].\\n\\t\\\\end{equation}\\nЛегко видеть, что неравенство (\\\\ref{Expect}) остается в силе, только теперь оно выполнено на всем $[-1,1]$. Поскольку $-1/2\\\\le p\\\\le q<1/2$, условия (\\\\ref{o(N^2q+2)}) и (\\\\ref{n^q+1/2}) гарантируют равномерное по $x\\\\in[-1,1]$ стремление к нулю правой части (\\\\ref{Expect}).\\n\\n\\nОценим дисперсию. Рассуждая как при доказательстве теоремы 1 и учитывая (\\\\ref{n^q+1/2}), для любого $x\\\\in[-1,1]$ получим\\n$$\\n\\\\textup{\\\\sffamily{D}}(\\\\widehat{m}_N (x)) = \\\\sum_{j=0}^N \\\\Bigl| P^{(\\\\alpha, \\\\beta)}_j(x) \\\\Bigr|^2 \\\\  \\\\textup{\\\\sffamily{D}}(\\\\widehat{\\\\beta}_j)+ 2\\\\sum_{0\\\\le k \\\\le j \\\\le N } P^{(\\\\alpha, \\\\beta)}_j(x) \\\\ P^{(\\\\alpha, \\\\beta)}_k(x) \\\\ \\\\textup{\\\\sffamily{cov}} (\\\\widehat{\\\\beta}_j, \\\\widehat{\\\\beta}_k) \\\\le\\n$$\\n$$\\n\\\\le C \\\\sum_{j=0}^N \\\\Bigl| P^{(\\\\alpha, \\\\beta)}_j(x) \\\\Bigr|^2 \\\\ \\\\sum_{i=1}^n \\\\left(  \\\\int_{A_i} P^{(\\\\alpha, \\\\beta)}_j(x) \\\\ \\\\rho(x) dx  \\\\right)^2\\n$$\\n $$\\n+2\\\\sum_{0\\\\le k < j \\\\le N }\\\\left| P^{(\\\\alpha, \\\\beta)}_j(x) \\\\ P^{(\\\\alpha, \\\\beta)}_k(x) \\\\ \\\\textup{\\\\sffamily{cov}} (\\\\widehat{\\\\beta}_j, \\\\widehat{\\\\beta}_k)\\\\right| \\\\le $$\\n$$\\n\\\\le \\\\frac{C(\\\\alpha, \\\\beta)}{A_n (\\\\alpha,\\\\beta)} \\\\left(   \\\\sum_{j=0}^N \\\\sup\\\\limits_{-1\\\\le x \\\\le 1} \\\\Bigl| P^{(\\\\alpha, \\\\beta)}_j(x) \\\\Bigr|^2 + 2\\\\sum_{0\\\\le k < j \\\\le N } \\\\sup\\\\limits_{-1\\\\le x \\\\le 1} \\\\Bigl|   P^{(\\\\alpha, \\\\beta)}_j(x) \\\\ P^{(\\\\alpha, \\\\beta)}_k(x) \\\\Bigr| \\\\right)\\n$$\\n$$ \\\\le \\\\frac{C(\\\\alpha, \\\\beta)}{A_n (\\\\alpha,\\\\beta)} \\\\left( \\\\sum_{j=0}^N j^{2q+1} + 2\\\\sum_{0\\\\le k < j \\\\le N } (kj)^{q+ \\\\frac{1}{2}} \\\\right).\\n$$\\nПоскольку\\n\\\\[\\n\\\\sum_{0\\\\le k < j \\\\le N } (kj)^{q+ \\\\frac{1}{2}}=\\\\sum_{j=1}^N  j^{q+ \\\\frac{1}{2}} \\\\sum_{k=0}^{j-1} k^{q+ \\\\frac{1}{2}}\\\\le C\\\\sum_{j=1}^N  j^{q+\\\\frac{1}{2}} (j-1)^{q+ \\\\frac{3}{2}}\\n\\\\]\\n\\\\[\\n\\\\le C\\\\sum_{j=1}^N  j^{2q+2}\\\\le CN^{2q+3},\\n\\\\]\\nокончательно находим\\n\\\\[\\n\\\\textup{\\\\sffamily{D}}(\\\\widehat{m}_N (x))\\\\le \\\\frac{ C(\\\\alpha, \\\\beta) N^{2q+3}}{A_n (\\\\alpha,\\\\beta)}.\\n\\\\]\\n\\tТаким образом, мы вновь получаем соотношения (\\\\ref{E}) и (\\\\ref{V}), которые теперь выполняются уже равномерно по $x\\\\in[-1,1]$. Для обоснования (\\\\ref{o(n)_1}) следует дословно повторить соответствующие рассуждения из доказательства предыдущей теоремы.\\n\\\\end{proof}%и конца доказательств!\\n\\\\end{theoremr}\\n\\\\medskip\\n\\\\begin{thebibliography}{10}\\n\\n%%%%%%%%%%%%%%%%%%%%%%%%%%%%%%%%%%%%%%%%%%%%%%%%%%%%%%%%%\\n%%% Требования ВАК\\n%%%     http://diss.rsl.ru/datadocs/doc_291wu.pdf\\n%%%     http://rosmu.ru/activity/events/1056.html\\n%%%%%%%%%%%%%%%%%%%%%%%%%%%%%%%%%%%%%%%%%%%%%%%%%%%%%%%%%\\n\\n%%% Оформление описаний книг\\n\\n    %<#1>   Автор/ы (Фамилия, пробел инициалы).\\n    %<#2>   Заглавие: сведения, относящиеся к заглавию.\\n    %<#3>   Сведения об ответственности (редакторы, переводчики, коллективы). Сведения об издании (информация о переиздании,    номер издания). (Серия).\\n    %<#4>   Место издания: Издательство.\\n    %<#5>   Год издания.\\n    %<#6>   Объем (в страницах).\\n\\n%    \\\\newcommand{\\\\tvimRefBook}[6]{\\\\ifthenelse{\\\\equal{#1}{}}{}{#1 }#2\\\\ifthenelse{\\\\equal{#3}{}}{}{~/ #3}.~--- #4, #5.~--- #6\\\\;c.}\\n\\n%%% Оформление описаний статей или отдельных глав с указанием разных авторов из книги или сборника\\n\\n    %<#1>   Автор/ы (Фамилия, пробел инициалы).\\n    %<#2>   Заглавие статьи: сведения, относящиеся к заглавию.\\n    %<#3>   Сведения об ответственности (авторы статьи) -- если совпадает с авторами статьи, то можно не указывать.\\n    %<#4>   Заглавие книги: сведения, сведения, относящиеся к заглавию.\\n    %<#5>   Сведения об ответственности (авторы книги); последующие сведения об отвественности (редакторы, переводчики, коллективы).\\n    %<#6>   Место издания: Издательство.\\n    %<#7>   Год издания.\\n    %<#8>   T.\\\\;X.[~--- №\\\\;X]\\n    %<#9>   Местоположение статьи (начальная--конечная страницы).\\n\\n%    \\\\newcommand{\\\\tvimRefArticle}[9]{#1 #2\\\\ifthenelse{\\\\equal{#3}{}}{}{~/ #3}~// #4\\\\ifthenelse{\\\\equal{#5}{}}{}{~/ #5}.~---\\\\ifthenelse{\\\\equal{#6}{}}{}{ #6,} #7.~---\\\\ifthenelse{\\\\equal{#8}{}}{}{ #8.~---} C.\\\\;#9.}\\n\\n%%% Оформление описаний источников электронного ресурса удаленного доступа\\n    %<#1>   Автор/ы (Фамилия, пробел инициалы).\\n    %<#2>   Заглавие.\\n    %<#3>   Название источника [Электронный ресурс]. – Режим доступа:\\n    %<#4>   URL (без знаков препинания в конце).\\n\\n%    \\\\newcommand{\\\\tvimRefEl}[4]{\\\\ifthenelse{\\\\equal{#1}{}}{}{~/ #1} #2~// #3 [Электронный ресурс].~--- Режим доступа:\\\\\\\\ #4}\\n\\n%%%%%%%%%%%%%%%%%%%%%%%%%%%%%%%%%%%%%%%%%%%%%%%%%%%%%%%%%%%%%%%%%%%%%%%%%%\\n%%% Harvard style:\\n%%%     http://www.staffs.ac.uk/assets/harvard_quick_guide_tcm44-47797.pdf\\n%%%%%%%%%%%%%%%%%%%%%%%%%%%%%%%%%%%%%%%%%%%%%%%%%%%%%%%%%%%%%%%%%%%%%%%%%%\\n\\n%%% Books\\n\\n    %<#1>   FAMILY/SURNAME, Initials. (1 author)\\n    %          OR FAMILY/SURNAME, Initials., FAMILY/SURNAME, Initials. and FAMILY/SURNAME, Initials. (2 or 3 authors)\\n    %          OR FAMILY/SURNAME, Initials. et al. or and others. (4 or more authors)\\n    %<#2>   Publication year\\n    %<#3>   Book title -- italicized or underlined.\\n    %<#4>   Series title and volume if applicable. Edition –- if not the first.\\n    %<#5>   Place of publication: Publisher.\\n\\n%    \\\\newcommand{\\\\tvimRefBookEn}[5]{{#1 (#2) \\\\textit{#3}.\\\\ifthenelse{\\\\equal{#4}{}}{}{ #4.} #5.}}\\n\\n\\n%%% Journal article (printed)\\n\\n    %<#1>   Author(s) of article’s FAMILY/SURNAME, Initials.\\n    %<#2>   Publication year\\n    %<#3>   Title of article.\\n    %<#4>   Title of journal -- italicized or underlined.\\n    %<#5>   Volume number\\n    %<#6>   Part number/month.\\n    %<#7>   Page numbers of the article.\\n\\n%    \\\\newcommand{\\\\tvimRefArticleEn}[7]{{#1 (#2) #3. \\\\textit{#4}. #5\\\\ifthenelse{\\\\equal{#6}{}}{.}{\\\\;(#6).} p.\\\\;#7.}}\\n\\n%%% Journal article (electronic/online)\\n\\n    %<#1>   Author(s) of article’s FAMILY/SURNAME, Initials.\\n    %<#2>   Publication year.\\n    %<#3>   Title of article.\\n    %<#4>   Title of journal -- italicized or underlined.\\n    %<#5>   Name of Database the article is from if appropriate.\\n    %<#6>   Volume number (Part number/month in brackets).\\n    %<#7>   Page numbers of the article.\\n    %<#8>   URL.\\n    %<#9>   Accessed: followed by the date viewed.\\n\\n%    \\\\newcommand{\\\\tvimRefArticleElEn}[9]{#1 (#2) #3. \\\\textit{#4}. [Online] #5 #6. p.\\\\;#7. Available from:\\\\\\\\ #8. [Accessed: #9].}\\n\\n%%% Website\\n    %Author of website FAMILY/SURNAME, Initials or WEBSITE name if no author is available. (Year - in brackets) Title of website in italics or underlined. Any numbers if necessary or available if website is part of a series. [Online in square brackets] Available from: URL. [Accessed: followed by date in square brackets].\\n\\n    %<#1>   Author of website FAMILY/SURNAME, Initials or WEBSITE name if no author is available.\\n    %<#2>   Year.\\n    %<#3>   Title of website in italics or underlined. Any numbers if necessary or available if website is part of a series.\\n    %<#4>   URL.\\n    %<#5>   Accessed: followed by date in square brackets.\\n\\n%    \\\\newcommand{\\\\tvimRefWebsiteEn}[5]{#1. (#2) \\\\textit{#3}. [Online] Available from:\\\\\\\\ #4. \\\\ifthenelse{\\\\equal{#5}{}}{}{[Accessed: #5].}}\\n\\n%%%%%%%%%%%%%%%%%%%%%%%%%%%%%%%%%%%%%%%%%%%%%%%%%%%%%%%%%%%%%%%%%%%%%%%%%%%\\n\\n\\\\medskip\\n\\\\bibitem{Racine2008} %идентификатор должен быть уникальным!!!\\n\\\\tvimRefArticle{Расин,\\\\;Д.}{Непараметрическая\\nэконометрика: вводный курс}{}{Квантиль}{}{}{2008}{No.\\\\;4}{7--56}\\n\\n\\\\smallskip\\n\\n\\\\tvimRefArticleEn{RACINE,\\\\;J. }{2008}{Nonparametric\\neconometrics: a primer}{Quantile}{No.\\\\;4}{}{7--56}\\n\\n\\n\\\\medskip\\n\\\\bibitem{Rutkowski1982} %идентификатор должен быть уникальным!!!\\n\\\\smallskip\\n\\\\tvimRefArticleEn{RUTKOWSKI,\\\\;L. }{1982}{On System Identification by Nonparametric Function Fitting}{IEEE Transactions of Automatic\\nControl}{Vol. AC--27}{}{225--227}\\n\\n\\n\\n\\\\medskip\\n\\\\bibitem{Rutkowski1982a} %идентификатор должен быть уникальным!!!\\n\\\\smallskip\\n\\\\tvimRefArticleEn{RUTKOWSKI,\\\\;L. }{1982}{On-line identification of time varying systems by nonparametric techniques}{IEEE Transactions of Automatic\\nControl}{Vol.\\\\;AC--27}{}{228--230}\\n\\n\\\\medskip\\n\\\\bibitem{GREBLICKI} %идентификатор должен быть уникальным!!!\\n\\\\smallskip\\n\\\\tvimRefArticleEn{GREBLICKI,\\\\;W. \\\\& RUTKOWSKA,\\\\;D. \\\\& RUTKOWSKI,\\\\;L.}{1983}{An Orthogonal Series Estimate of Time-varying Regression}{Ann. Inst. Statist. Math.}{Vol.\\\\;35}{}{215--228}\\n\\n\\\\bibitem{Hardle1993} \\\\tvimRefBook{Хардле,\\\\;В.}{Прикладная непараметрическая регрессия}{В.\\\\;Хардле}{M.: Мир}{1993}{349}\\n\\n\\\\smallskip %!!! Не англоязычные источники также предоставлять на английском языке !!!\\n\\\\tvimRefBookEn{H{\\\\\"A}RDLE,\\\\;W.}{1989}{Applied Nonparametric Regression}{}{Cambridge University Press}\\n\\n\\\\medskip\\n\\n\\\\bibitem{LI_RACINE}\\n\\n\\\\tvimRefBookEn{LI,\\\\;Q. \\\\& RACINE,\\\\;J.}{2007}{Nonparametric Econometrics: Theory and Practice}{}{Princeton University Press}\\n\\n\\\\medskip\\n\\\\bibitem{Suetin1979} \\\\tvimRefBook{Суетин,\\\\;П.\\\\;К.}{Классические ортогональные многочлены}{П.\\\\;К.\\\\;Суетин}{M.: Наука}{1979}{419}\\n\\n\\\\smallskip %!!! Не англоязычные источники также предоставлять на английском языке !!!\\n\\\\tvimRefBookEn{SUETIN,\\\\;P.}{1979}{Classic orthogonal polynomials}{}{Moscow: Nauka}\\n\\n\\\\medskip\\n\\n\\\\bibitem{Alexits1963} \\\\tvimRefBook{Алексич,\\\\;Г.}{Проблемы сходимости ортогональных рядов}{Г.\\\\;Алексич}{M.: ИЛ}{1963}{359}\\n\\n\\\\smallskip %!!! Не англоязычные источники также предоставлять на английском языке !!!\\n\\\\tvimRefBookEn{ALEXITS,\\\\;G.}{1961}{Convergence problems of orthogonal series}{}{Budapest: Acad{\\\\\\' e}mai Kiad{\\\\\\' o}}\\n\\n\\n\\n\\n\\n\\n\\n\\n\\\\end{thebibliography}\\n\\n\\\\label{Novikov_end}%Обязательная метка конца статьи. Переименуйте ее, указав вместо Yoursurname вашу фамилию!!!\\n\\n\\\\bigskip\\n%%%%%%%%%%%%%%%%%%% Обязательно для заполнения! Печатается в конце журнала!\\n\\\\authorInfo{Новиков Владимир}{Васильевич}{к.\\\\;ф.-м.\\\\;н, доцент кафедры теории функций и стохастического анализа механико-математического факультета Саратовского государственного университета, г.~Саратов, РФ}{vvnovikov@yandex.ru}\\n\\\\authorInfo{Худошина Анастасия}{Олеговна}{магистрант, кафедра математической экономики механико-математического факультета Саратовского государственного университета, г.~Саратов, РФ}{hudoshina.an@mail.ru}\\n\\n\\\\end{document} '"
      ]
     },
     "execution_count": 35,
     "metadata": {},
     "output_type": "execute_result"
    }
   ],
   "source": [
    "article_path = 'articles_2019_2/Novikov/Novikov_V_V_Hudoshina_A_O-NEW.tex'\n",
    "\n",
    "with open(article_path, 'rt') as f:\n",
    "    article = f.read()\n",
    "\n",
    "article"
   ]
  },
  {
   "cell_type": "code",
   "execution_count": 36,
   "metadata": {},
   "outputs": [
    {
     "name": "stdout",
     "output_type": "stream",
     "text": [
      "О состоятельности оценок ортогонального разложения по системе многочленов\n",
      "Якоби\n",
      "Новиков\\;В.\\;В.,\\;Худошина\\;А.\\;О.\n",
      "    Рассмотривается непараметрическая регрессионная модель\n",
      "$Y_{i} =m(X_{i} )+\\varepsilon _{i} \\, ,\\, i=1,...,n,$\n",
      "где $m(x)$ -- неизвестная функция регрессии, подлежащая оцениванию на основе эмпирических данных $\\left\\{\\left(X_{i} ,Y_{i} \\right)\\right\\}_{i=1}^{n} $, $\\{ \\varepsilon _{i} \\} _{i=1}^{n} $ --- случайные ошибки.\n",
      "Предполагается, что $X$ неслучайна, $m(x)$ удовлетворяет условию Липшица порядка 1, $\\textup{\\sffamily{E}}\\varepsilon _{i} =0$, $\\textup{\\sffamily{E}}(\\varepsilon _{i}\\varepsilon _{j}) =0$, $i\\neq j$,  и   $\\textup{\\sffamily{E}}\\varepsilon _{i}^2 <C$, $i=1,\\dots,n$. Кроме того, считаем, что наблюдения $\\{ Y _{i} \\} _{i=1}^{n} $ проведены в равноотстоящих точках $\\{ X _{i} \\} _{i=1}^{n} $ интервала $[-1, 1]$.\n",
      " В статье получено условие состоятельности оценки ортогонального разложения вида\n",
      "$\n",
      "\\hat{m}_{N(n)} \\left(x\\right)=\\sum _{j=0}^{N\\left(n\\right)}\\hat{\\beta }_{j} \\varphi _{j} \\left(x\\right),$$  \\;\\hat{\\beta }_{j} =\\sum _{i=1}^{n}Y_{i} \\int _{A_{i} }\\varphi _{j} \\left(x\\right)\\rho(x)\\,dx,\n",
      "$\n",
      "где $\\left\\{A_{i} \\right\\}_{i=1}^{n} $ --- множество неналегающих интервалов таких, что $\\cup_{i=1}^n A_{i}=[-1,1]$, $X_{i} \\in A_{i} $, $i=1,...,n$, $N(n)$ --- подходящим образом подобранный номер и\n",
      "$\\varphi _{j} \\left(x\\right)= P_{j}^{\\, (\\alpha ,\\beta )} (x)$, $j=0,1,\\dots,$ --- многочлены Якоби, ортонормированные на $[-1,\\, 1]$ с весом $\\rho(x)=\\left(1-x\\right)^{\\alpha } \\left(1+x\\right)^{\\beta } $, $\\alpha,\\, \\beta >-1$. Показано, что если в дополнение к перечисленным выше ограничениям, выполнены условия $(N(n))^2=o(n)$, $\\min\\{\\alpha;\\, \\beta\\} >-{1}/{2}$ и $(N(n))^2=o(n/\\log n)$, $\\min\\{\\alpha;\\, \\beta\\} =-{1}/{2}$, то при $N\\left(n\\right)\\to \\infty $,  справедливо соотношение $\\hat{m}_{N(n)} \\left(x\\right)\\stackrel{p}{\\longrightarrow} m\\left(x\\right), \\;x\\in(-1,1)$. Если к тому же $q=\\max\\{\\alpha ;\\beta\\}<1/2$ и указанным выше ограничениям на рост удовлетворяет последовательность $\\left(N(n)\\right)^{2q+3}$, то $\\hat{m}_{N(n)} \\left(x\\right)\\stackrel{p}{\\longrightarrow} m\\left(x\\right)$ для всех $x$ из отрезка $[-1,1]$.\n"
     ]
    }
   ],
   "source": [
    "m = re.search(r'\\\\begin{abstractXr}\\n*{(.*?)}\\n*{(.*?)}\\n*(.*?)\\n*\\\\end{abstractXr}', article, flags=re.DOTALL)\n",
    "print(m[1])\n",
    "print(m[2])\n",
    "print(m[3])"
   ]
  },
  {
   "cell_type": "code",
   "execution_count": 33,
   "metadata": {},
   "outputs": [
    {
     "name": "stdout",
     "output_type": "stream",
     "text": [
      "непараметрическая регрессия, состоятельность, оценка, ортогональные ряды, многочлены Якоби\n"
     ]
    }
   ],
   "source": [
    "m = re.search(r'\\\\keywordsr{(.*?)}+', article, flags=re.DOTALL)\n",
    "t = m[1]\n",
    "print(t)\n",
    "# t = re.sub(r'\\\\uppercase{', '', t, flags=re.DOTALL)\n",
    "# t = re.sub(r'\\n', ' ', t, flags=re.DOTALL)\n",
    "# t = re.sub(r' {2,}', ' ', t, flags=re.DOTALL)\n",
    "# t"
   ]
  },
  {
   "cell_type": "code",
   "execution_count": 102,
   "metadata": {},
   "outputs": [
    {
     "data": {
      "text/plain": [
       "<re.Match object; span=(6, 86), match='{\\\\uppercase{Трансформация Шура для обобщенной фу>"
      ]
     },
     "execution_count": 102,
     "metadata": {},
     "output_type": "execute_result"
    }
   ],
   "source": [
    "t = re.sub(r'\\n', ' ', t, flags=re.DOTALL)\n",
    "t = re.sub(r' {2,}', ' ', t, flags=re.DOTALL)\n",
    "m = re.search(r'{.*?}', t)\n",
    "m"
   ]
  },
  {
   "cell_type": "code",
   "execution_count": 150,
   "metadata": {},
   "outputs": [
    {
     "data": {
      "text/plain": [
       "'Трансформация Шура для обобщенной функции Каратеодори на окружности'"
      ]
     },
     "execution_count": 150,
     "metadata": {},
     "output_type": "execute_result"
    }
   ],
   "source": [
    "def select_tag(tag, text):\n",
    "    m = re.search(tag + r'{.*?}+', text, flags=re.DOTALL)\n",
    "    if m:\n",
    "        t = text[m.start()+len(tag):m.end()-1]\n",
    "        t = re.sub(r'\\n', ' ', t, flags=re.DOTALL)\n",
    "        t = re.sub(r' {2,}', ' ', t, flags=re.DOTALL)\n",
    "        return t\n",
    "    else:\n",
    "        return text\n",
    "\n",
    "title = select_tag(r'\\\\title', article)\n",
    "title = select_tag(r'\\\\uppercase', title)\n",
    "title"
   ]
  },
  {
   "cell_type": "code",
   "execution_count": 132,
   "metadata": {},
   "outputs": [],
   "source": [
    "test = r'\\title{\\uppercase{Трансформация Шура для обобщенной функции Каратеодори на окружности}}'"
   ]
  },
  {
   "cell_type": "code",
   "execution_count": 118,
   "metadata": {},
   "outputs": [],
   "source": [
    "m = re.search(r'\\\\title{(.*?)}', test)"
   ]
  },
  {
   "cell_type": "code",
   "execution_count": 120,
   "metadata": {},
   "outputs": [
    {
     "data": {
      "text/plain": [
       "'\\\\title{\\\\uppercase{Трансформация Шура для обобщенной функции Каратеодори на окружности}'"
      ]
     },
     "execution_count": 120,
     "metadata": {},
     "output_type": "execute_result"
    }
   ],
   "source": [
    "m[0]"
   ]
  },
  {
   "cell_type": "code",
   "execution_count": 156,
   "metadata": {},
   "outputs": [
    {
     "data": {
      "text/plain": [
       "'\\\\title{\\\\uppercase{Трансформация Шура для обобщенной функции \\nКаратеодори на окружности}}'"
      ]
     },
     "execution_count": 156,
     "metadata": {},
     "output_type": "execute_result"
    }
   ],
   "source": [
    "m = re.search(r'\\\\title{.*?}+', article, flags=re.DOTALL)\n",
    "m[0]"
   ]
  },
  {
   "cell_type": "code",
   "execution_count": 153,
   "metadata": {},
   "outputs": [
    {
     "data": {
      "text/plain": [
       "'\\\\uppercase{Трансформация Шура для обобщенной функции Каратеодори на окружности}'"
      ]
     },
     "execution_count": 153,
     "metadata": {},
     "output_type": "execute_result"
    }
   ],
   "source": [
    "select_tag(r'\\\\title', article)"
   ]
  },
  {
   "cell_type": "code",
   "execution_count": 37,
   "metadata": {},
   "outputs": [],
   "source": [
    "from docx import Document"
   ]
  },
  {
   "cell_type": "code",
   "execution_count": 43,
   "metadata": {},
   "outputs": [],
   "source": [
    "d = Document(os.path.join('docs/', '05predstavlen.docx'))"
   ]
  },
  {
   "cell_type": "code",
   "execution_count": 44,
   "metadata": {},
   "outputs": [
    {
     "data": {
      "text/plain": [
       "<docx.document.Document at 0x104a44fc0>"
      ]
     },
     "execution_count": 44,
     "metadata": {},
     "output_type": "execute_result"
    }
   ],
   "source": [
    "d"
   ]
  },
  {
   "cell_type": "code",
   "execution_count": 45,
   "metadata": {},
   "outputs": [
    {
     "ename": "AttributeError",
     "evalue": "'Document' object has no attribute 'pages'",
     "output_type": "error",
     "traceback": [
      "\u001b[0;31m---------------------------------------------------------------------------\u001b[0m",
      "\u001b[0;31mAttributeError\u001b[0m                            Traceback (most recent call last)",
      "\u001b[0;32m<ipython-input-45-22ccb46be617>\u001b[0m in \u001b[0;36m<module>\u001b[0;34m\u001b[0m\n\u001b[0;32m----> 1\u001b[0;31m \u001b[0md\u001b[0m\u001b[0;34m.\u001b[0m\u001b[0mpages\u001b[0m\u001b[0;34m\u001b[0m\u001b[0;34m\u001b[0m\u001b[0m\n\u001b[0m",
      "\u001b[0;31mAttributeError\u001b[0m: 'Document' object has no attribute 'pages'"
     ]
    }
   ],
   "source": [
    "d."
   ]
  },
  {
   "cell_type": "code",
   "execution_count": null,
   "metadata": {},
   "outputs": [],
   "source": []
  }
 ],
 "metadata": {
  "kernelspec": {
   "display_name": "Python 3",
   "language": "python",
   "name": "python3"
  },
  "language_info": {
   "codemirror_mode": {
    "name": "ipython",
    "version": 3
   },
   "file_extension": ".py",
   "mimetype": "text/x-python",
   "name": "python",
   "nbconvert_exporter": "python",
   "pygments_lexer": "ipython3",
   "version": "3.7.2"
  }
 },
 "nbformat": 4,
 "nbformat_minor": 2
}
